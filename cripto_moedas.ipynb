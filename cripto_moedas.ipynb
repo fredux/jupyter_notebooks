{
 "cells": [
  {
   "cell_type": "code",
   "execution_count": 3,
   "metadata": {},
   "outputs": [],
   "source": [
    "import matplotlib.pyplot as plt\n",
    "import seaborn as sns\n",
    "import pandas as pd\n",
    "from pandas_datareader import data, wb\n",
    "from datetime import datetime, timedelta\n",
    "import numpy as np\n",
    "%matplotlib inline\n",
    "import sqlite3"
   ]
  },
  {
   "cell_type": "markdown",
   "metadata": {},
   "source": [
    "# Ativos da Carteira"
   ]
  },
  {
   "cell_type": "code",
   "execution_count": 4,
   "metadata": {},
   "outputs": [],
   "source": [
    "conn = sqlite3.connect('ativos.db')\n",
    "cursor = conn.cursor()\n",
    "#Cria o array de ativos e dos ativos com quantidade\n",
    "query =\" SELECT sigla, qtd FROM ativos WHERE moeda = 'DIGITAL' ;\"\n",
    "cursor.execute(query)\n",
    "ativos_qtd = {}\n",
    "ativos = []\n",
    "pesos = []\n",
    "for linha in cursor:\n",
    "    ativos_qtd[linha[0]] = linha[1] \n",
    "    ativos.append(linha[0]) \n",
    "conn.close()\n"
   ]
  },
  {
   "cell_type": "code",
   "execution_count": 5,
   "metadata": {},
   "outputs": [
    {
     "data": {
      "text/plain": [
       "['LTC-USD', 'ADA-USD']"
      ]
     },
     "execution_count": 5,
     "metadata": {},
     "output_type": "execute_result"
    }
   ],
   "source": [
    "start = datetime(2018,1,1)\n",
    "ativos"
   ]
  },
  {
   "cell_type": "code",
   "execution_count": 6,
   "metadata": {},
   "outputs": [],
   "source": [
    "#ativos/ações \n",
    "tickers= ativos\n",
    "\n",
    "#busca os ativos de acordo com a data inicial \n",
    "acoes=pd.DataFrame()\n",
    "for t in tickers:\n",
    "    acoes[t]= data.DataReader(t, data_source='yahoo', start=start)['Adj Close']\n"
   ]
  },
  {
   "cell_type": "code",
   "execution_count": 7,
   "metadata": {},
   "outputs": [],
   "source": [
    "#Calcula o valor total das acoes na carteira - (cotação do ativo * qtd)\n",
    "total = 0.0\n",
    "for key, value in ativos_qtd.items():\n",
    "    #total += (acoes[key].tail(2)[0].sum() * value)\n",
    "    total += (acoes[key].tail(1).sum() * value)\n",
    "    #tambem pode pegar a media do periodo\n",
    "    #total += (acoes[key].sum() * value)\n",
    "\n",
    "#cria o array de  peso do ativos contidos na carteira    \n",
    "# cotação do ativo * quantidade em carteira / total da carteira\n",
    "pesos = []\n",
    "for key, value in ativos_qtd.items():\n",
    "     #\"%.4f\" % (acoes[key].tail(1).sum() *  value / total)\n",
    "    pesos.append(round(acoes[key].tail(1).sum() *  value / total,4))\n"
   ]
  },
  {
   "cell_type": "code",
   "execution_count": 8,
   "metadata": {},
   "outputs": [
    {
     "data": {
      "text/html": [
       "<div>\n",
       "<style scoped>\n",
       "    .dataframe tbody tr th:only-of-type {\n",
       "        vertical-align: middle;\n",
       "    }\n",
       "\n",
       "    .dataframe tbody tr th {\n",
       "        vertical-align: top;\n",
       "    }\n",
       "\n",
       "    .dataframe thead th {\n",
       "        text-align: right;\n",
       "    }\n",
       "</style>\n",
       "<table border=\"1\" class=\"dataframe\">\n",
       "  <thead>\n",
       "    <tr style=\"text-align: right;\">\n",
       "      <th></th>\n",
       "      <th>LTC-USD</th>\n",
       "      <th>ADA-USD</th>\n",
       "    </tr>\n",
       "    <tr>\n",
       "      <th>Date</th>\n",
       "      <th></th>\n",
       "      <th></th>\n",
       "    </tr>\n",
       "  </thead>\n",
       "  <tbody>\n",
       "    <tr>\n",
       "      <th>2021-02-28</th>\n",
       "      <td>164.927170</td>\n",
       "      <td>1.308059</td>\n",
       "    </tr>\n",
       "    <tr>\n",
       "      <th>2021-03-01</th>\n",
       "      <td>175.237900</td>\n",
       "      <td>1.292388</td>\n",
       "    </tr>\n",
       "    <tr>\n",
       "      <th>2021-03-02</th>\n",
       "      <td>177.872437</td>\n",
       "      <td>1.225582</td>\n",
       "    </tr>\n",
       "    <tr>\n",
       "      <th>2021-03-03</th>\n",
       "      <td>188.525665</td>\n",
       "      <td>1.216593</td>\n",
       "    </tr>\n",
       "    <tr>\n",
       "      <th>2021-03-04</th>\n",
       "      <td>181.078644</td>\n",
       "      <td>1.114868</td>\n",
       "    </tr>\n",
       "    <tr>\n",
       "      <th>2021-03-05</th>\n",
       "      <td>180.765610</td>\n",
       "      <td>1.168523</td>\n",
       "    </tr>\n",
       "    <tr>\n",
       "      <th>2021-03-06</th>\n",
       "      <td>182.981903</td>\n",
       "      <td>1.131012</td>\n",
       "    </tr>\n",
       "    <tr>\n",
       "      <th>2021-03-07</th>\n",
       "      <td>190.759109</td>\n",
       "      <td>1.133367</td>\n",
       "    </tr>\n",
       "    <tr>\n",
       "      <th>2021-03-08</th>\n",
       "      <td>191.927689</td>\n",
       "      <td>1.118053</td>\n",
       "    </tr>\n",
       "    <tr>\n",
       "      <th>2021-03-09</th>\n",
       "      <td>203.637863</td>\n",
       "      <td>1.195161</td>\n",
       "    </tr>\n",
       "    <tr>\n",
       "      <th>2021-03-10</th>\n",
       "      <td>200.516861</td>\n",
       "      <td>1.135003</td>\n",
       "    </tr>\n",
       "    <tr>\n",
       "      <th>2021-03-11</th>\n",
       "      <td>198.167053</td>\n",
       "      <td>1.127198</td>\n",
       "    </tr>\n",
       "  </tbody>\n",
       "</table>\n",
       "</div>"
      ],
      "text/plain": [
       "               LTC-USD   ADA-USD\n",
       "Date                            \n",
       "2021-02-28  164.927170  1.308059\n",
       "2021-03-01  175.237900  1.292388\n",
       "2021-03-02  177.872437  1.225582\n",
       "2021-03-03  188.525665  1.216593\n",
       "2021-03-04  181.078644  1.114868\n",
       "2021-03-05  180.765610  1.168523\n",
       "2021-03-06  182.981903  1.131012\n",
       "2021-03-07  190.759109  1.133367\n",
       "2021-03-08  191.927689  1.118053\n",
       "2021-03-09  203.637863  1.195161\n",
       "2021-03-10  200.516861  1.135003\n",
       "2021-03-11  198.167053  1.127198"
      ]
     },
     "execution_count": 8,
     "metadata": {},
     "output_type": "execute_result"
    }
   ],
   "source": [
    "acoes.tail(12)"
   ]
  },
  {
   "cell_type": "markdown",
   "metadata": {},
   "source": [
    "# Retorno Simples = PF - PI / PI"
   ]
  },
  {
   "cell_type": "code",
   "execution_count": 9,
   "metadata": {},
   "outputs": [],
   "source": [
    "#retorno diario dos aivos ( ideal para calculo de várias ações)\n",
    "returns = acoes / acoes.shift(1) - 1\n",
    "#returns.head()"
   ]
  },
  {
   "cell_type": "code",
   "execution_count": 10,
   "metadata": {
    "scrolled": true
   },
   "outputs": [],
   "source": [
    "#Returno diário da Ambev\n",
    "#returns[\"ABEV3.SA\"].plot(figsize=(8,5))\n",
    "#returns[\"ABEV3.SA\"].plot()"
   ]
  },
  {
   "cell_type": "code",
   "execution_count": 11,
   "metadata": {},
   "outputs": [],
   "source": [
    "#media do retorno diário das acoes \n",
    "avg_returns_d = returns.mean()\n",
    "#avg_returns_d"
   ]
  },
  {
   "cell_type": "code",
   "execution_count": 12,
   "metadata": {},
   "outputs": [
    {
     "name": "stdout",
     "output_type": "stream",
     "text": [
      "LTC-USD    31.888\n",
      "ADA-USD    56.755\n",
      "dtype: float64\n"
     ]
    }
   ],
   "source": [
    "#Retorno médio anual\n",
    "avg_returns_a = returns.mean() * 250\n",
    "#print(str(round(avg_returns_a[\"ABEV3.SA\"] ,5) * 100) + \"%\")  \n",
    "print(str(round(avg_returns_a ,5) * 100))  "
   ]
  },
  {
   "cell_type": "markdown",
   "metadata": {},
   "source": [
    "# Retorno Logaritmo = log(PF/PI) ou log(PF) - log(PI)"
   ]
  },
  {
   "cell_type": "code",
   "execution_count": 13,
   "metadata": {},
   "outputs": [],
   "source": [
    "#retorno logaritmo ( ideal para calculo de uma unica ação)\n",
    "log_returns = np.log(acoes / acoes.shift(1)) \n",
    "#log_returns.head()"
   ]
  },
  {
   "cell_type": "code",
   "execution_count": 14,
   "metadata": {},
   "outputs": [],
   "source": [
    "#media do retorno logaritmo diário das acoes \n",
    "avg_log_returns_d = log_returns.mean()\n",
    "#avg_log_returns_d"
   ]
  },
  {
   "cell_type": "code",
   "execution_count": 15,
   "metadata": {},
   "outputs": [
    {
     "name": "stdout",
     "output_type": "stream",
     "text": [
      "LTC-USD   -3.117\n",
      "ADA-USD    9.395\n",
      "dtype: float64\n"
     ]
    }
   ],
   "source": [
    "#Retorno médio anual\n",
    "avg_log_returns_a = log_returns.mean() * 250\n",
    "print(str(round(avg_log_returns_a ,5) * 100))  "
   ]
  },
  {
   "cell_type": "markdown",
   "metadata": {},
   "source": [
    "# Taxa de Retorno do Portfólio\n",
    "##  retorno = taxa de reotorno de um ativo * peso no portofolio"
   ]
  },
  {
   "cell_type": "code",
   "execution_count": 16,
   "metadata": {},
   "outputs": [
    {
     "data": {
      "image/png": "[encoded data removed]",
      "text/plain": [
       "<Figure size 1152x648 with 1 Axes>"
      ]
     },
     "metadata": {
      "needs_background": "light"
     },
     "output_type": "display_data"
    }
   ],
   "source": [
    "#normaliza atual / primeira * 100 neste caso toda a primeira será 100 tendo assim um ponto de referência\n",
    "#evolução das ações(dados do yahoo finance)\n",
    "(acoes / acoes.iloc[0] * 100).plot(figsize = (16,9));\n",
    "plt.legend()\n",
    "plt.show()"
   ]
  },
  {
   "cell_type": "code",
   "execution_count": 17,
   "metadata": {},
   "outputs": [
    {
     "data": {
      "text/plain": [
       "array([0.4873, 0.5127])"
      ]
     },
     "execution_count": 17,
     "metadata": {},
     "output_type": "execute_result"
    }
   ],
   "source": [
    "# neste caso estou colocando valores randomicamente e gerar os  meus pesos\n",
    "#weights = np.random.random(len(ativos))\n",
    "weights = pesos\n",
    "weights /= np.sum(weights)\n",
    "weights\n"
   ]
  },
  {
   "cell_type": "code",
   "execution_count": 18,
   "metadata": {},
   "outputs": [
    {
     "name": "stdout",
     "output_type": "stream",
     "text": [
      "44.637 %\n"
     ]
    }
   ],
   "source": [
    "portofolio_1 = str(round(np.dot(avg_returns_a, weights),5) *100) + ' %'\n",
    "print(portofolio_1) \n"
   ]
  },
  {
   "cell_type": "code",
   "execution_count": 19,
   "metadata": {},
   "outputs": [
    {
     "data": {
      "text/plain": [
       "1.0"
      ]
     },
     "execution_count": 19,
     "metadata": {},
     "output_type": "execute_result"
    }
   ],
   "source": [
    "sum(weights)"
   ]
  },
  {
   "cell_type": "code",
   "execution_count": null,
   "metadata": {},
   "outputs": [],
   "source": []
  }
 ],
 "metadata": {
  "kernelspec": {
   "display_name": "Python 3",
   "language": "python",
   "name": "python3"
  },
  "language_info": {
   "codemirror_mode": {
    "name": "ipython",
    "version": 3
   },
   "file_extension": ".py",
   "mimetype": "text/x-python",
   "name": "python",
   "nbconvert_exporter": "python",
   "pygments_lexer": "ipython3",
   "version": "3.9.0"
  }
 },
 "nbformat": 4,
 "nbformat_minor": 2
}
